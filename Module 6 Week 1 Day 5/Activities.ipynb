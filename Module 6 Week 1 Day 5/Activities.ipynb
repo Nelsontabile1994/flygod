{
 "cells": [
  {
   "cell_type": "code",
   "execution_count": null,
   "metadata": {},
   "outputs": [],
   "source": [
    "import numpy as np\n",
    "exam_data = {'name': ['Anastasia', 'Dima', 'Katherine', 'James', 'Emily', 'Michael', 'Matthew', 'Laura', 'Kevin', 'Jonas'],\n",
    "\n",
    "'score': [12.5, 9, 16.5, np.nan, 9, 20, 14.5, np.nan, 8, 19],\n",
    "\n",
    "'attempts': [1, 3, 2, 3, 2, 3, 1, 1, 2, 1],\n",
    "\n",
    "'qualify': ['yes', 'no', 'yes', 'no', 'no', 'yes', 'yes', 'no', 'no', 'yes']}\n",
    "\n",
    "labels = ['a', 'b', 'c', 'd', 'e', 'f', 'g', 'h', 'I', 'j']\n",
    "labels()"
   ]
  },
  {
   "cell_type": "code",
   "execution_count": 4,
   "metadata": {},
   "outputs": [
    {
     "name": "stdout",
     "output_type": "stream",
     "text": [
      "          A         B         C         D\n",
      "a -2.667133 -1.193576 -0.119560 -0.210971\n",
      "b  0.416614 -1.255115 -1.864619  1.188019\n",
      "c  0.418040  0.213872 -0.388542 -0.722680\n",
      "d -0.340674  1.766373 -0.625927 -0.606162\n",
      "e  0.359814  0.059647  0.515608 -1.371874\n",
      "f -0.193007  0.402511  0.553692  0.595795\n",
      "g  0.790725 -0.330513  0.369516  0.653640\n",
      "h -0.748901  0.426744 -0.569949  0.277827\n"
     ]
    }
   ],
   "source": [
    "import pandas as pd \n",
    "\n",
    "import numpy as np \n",
    "\n",
    "df = pd.DataFrame(np.random.randn(8, 4), \n",
    "\n",
    "index = ['a','b','c','d','e','f','g','h'], columns = ['A', 'B', 'C', 'D']) \n",
    "\n",
    "# Select range of rows for all columns \n",
    "\n",
    "print(df.loc['a':'h'])\n"
   ]
  },
  {
   "cell_type": "code",
   "execution_count": 5,
   "metadata": {
    "scrolled": true
   },
   "outputs": [
    {
     "name": "stdout",
     "output_type": "stream",
     "text": [
      "0   -0.777882\n",
      "1    1.062173\n",
      "2    0.055448\n",
      "3    2.555631\n",
      "4   -0.208451\n",
      "5   -0.735293\n",
      "6    0.863921\n",
      "7   -1.380912\n",
      "Name: A, dtype: float64\n"
     ]
    }
   ],
   "source": [
    "import pandas as pd \n",
    "\n",
    "import numpy as np \n",
    "\n",
    "df = pd.DataFrame(np.random.randn(8, 4), columns = ['A', 'B', 'C', 'D']) \n",
    "\n",
    "print (df.A)"
   ]
  },
  {
   "cell_type": "code",
   "execution_count": 6,
   "metadata": {},
   "outputs": [
    {
     "name": "stdout",
     "output_type": "stream",
     "text": [
      "      Name  Age\n",
      "0    Axola   12\n",
      "1  Bongiwe   19\n",
      "2   Dwayne   26\n"
     ]
    }
   ],
   "source": [
    "import pandas as pd \n",
    "\n",
    "data = [['Axola',12],['Bongiwe',19],['Dwayne',26]] \n",
    "\n",
    "df = pd.DataFrame(data,columns=['Name','Age']) \n",
    "\n",
    "print (df)"
   ]
  },
  {
   "cell_type": "code",
   "execution_count": 7,
   "metadata": {},
   "outputs": [
    {
     "name": "stdout",
     "output_type": "stream",
     "text": [
      "            Name  Yolisa\n",
      "rank1     Maruis      18\n",
      "rank2       Irma      35\n",
      "rank3  Sibongile      28\n",
      "rank4   Zacharee      42\n"
     ]
    }
   ],
   "source": [
    "import pandas as pd \n",
    "\n",
    "data = {'Name':['Maruis', 'Irma', 'Sibongile', 'Zacharee'],'Yolisa':[18,35,28,42]} \n",
    "\n",
    "df = pd.DataFrame(data, index=['rank1','rank2','rank3','rank4']) \n",
    "\n",
    "print (df)"
   ]
  },
  {
   "cell_type": "code",
   "execution_count": null,
   "metadata": {},
   "outputs": [],
   "source": []
  }
 ],
 "metadata": {
  "kernelspec": {
   "display_name": "Python 3",
   "language": "python",
   "name": "python3"
  },
  "language_info": {
   "codemirror_mode": {
    "name": "ipython",
    "version": 3
   },
   "file_extension": ".py",
   "mimetype": "text/x-python",
   "name": "python",
   "nbconvert_exporter": "python",
   "pygments_lexer": "ipython3",
   "version": "3.7.4"
  }
 },
 "nbformat": 4,
 "nbformat_minor": 2
}
