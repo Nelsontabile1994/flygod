{
 "cells": [
  {
   "cell_type": "code",
   "execution_count": 5,
   "metadata": {},
   "outputs": [
    {
     "ename": "SyntaxError",
     "evalue": "invalid syntax (<ipython-input-5-90b79eee56aa>, line 27)",
     "output_type": "error",
     "traceback": [
      "\u001b[1;36m  File \u001b[1;32m\"<ipython-input-5-90b79eee56aa>\"\u001b[1;36m, line \u001b[1;32m27\u001b[0m\n\u001b[1;33m    df = pd.DataFrame(data, columns = ['Product Type', 'Product',  'Price', 'Quantity', 'Sold', 'Sales'] )\u001b[0m\n\u001b[1;37m       ^\u001b[0m\n\u001b[1;31mSyntaxError\u001b[0m\u001b[1;31m:\u001b[0m invalid syntax\n"
     ]
    }
   ],
   "source": [
    "#Products vs price Bar Graph\n",
    "\n",
    "# import pandas and matplotlib \n",
    "import pandas as pd \n",
    "#import matplotlib.pyplot as plt \n",
    "  \n",
    "# create 2D array of table given above \n",
    "data = [['Chips', 'Simba', 7.50, 50, 15, 112.50],\n",
    "        ['', 'Lays', 7.50, 50, 21, 157.50],\n",
    "        ['', 'Bubbles', 9.00, 30, 12, 108.00],\n",
    "        ['Cooldrinks', 'Fanta', 11.00, 60, 24, 264.00],\n",
    "        ['', 'Coke', 11.00, 60, 30, 330.00],\n",
    "        ['', 'Pepsi', 9.00, 36, 30, 270.00],\n",
    "        ['Chocolate', 'Cadbury', 12.00, 30, 15, 180.00],\n",
    "        ['', 'Beacon', 11.00, 30, 17, 187.00],\n",
    "        ['', 'Milky Bar', 11.00, 30, 20, 220.00],\n",
    "        ['Pies', 'Chicken & Mushroom', 18.00, 20, 15, 270.00],\n",
    "        ['', 'Fetta & Spinach', 23.00, 25, 20, 460.00],\n",
    "        ['', 'Pepper Steak', 18.00, 20, 10, 180.00],\n",
    "        ['Fruits and Vegetables (1 kg packs)', 'Apples', 15.00, 60, 44, 660.00],\n",
    "        ['', 'Potatoes', 15.00, 30, 16, 240.00],\n",
    "        ['', 'Grapes', 17.00, 40, 18, 306.00],\n",
    "        \n",
    "        \n",
    "# dataframe created with \n",
    "# the above data array \n",
    "df = pd.DataFrame(data, columns = ['Product Type', 'Product',  \n",
    "                                    'Price', 'Quantity', \n",
    "                                    'Sold', 'Sales']) \n",
    "df"
   ]
  },
  {
   "cell_type": "code",
   "execution_count": null,
   "metadata": {},
   "outputs": [],
   "source": [
    "#Product vs Sales Bar Graph\n",
    "\n",
    "import numpy as np\n",
    "import matplotlib.pyplot as plt\n",
    "#import pandas as pd"
   ]
  },
  {
   "cell_type": "code",
   "execution_count": null,
   "metadata": {},
   "outputs": [],
   "source": []
  }
 ],
 "metadata": {
  "kernelspec": {
   "display_name": "Python 3",
   "language": "python",
   "name": "python3"
  },
  "language_info": {
   "codemirror_mode": {
    "name": "ipython",
    "version": 3
   },
   "file_extension": ".py",
   "mimetype": "text/x-python",
   "name": "python",
   "nbconvert_exporter": "python",
   "pygments_lexer": "ipython3",
   "version": "3.7.4"
  }
 },
 "nbformat": 4,
 "nbformat_minor": 2
}
