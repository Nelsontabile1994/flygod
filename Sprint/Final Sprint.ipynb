{
 "cells": [
  {
   "cell_type": "code",
   "execution_count": 2,
   "metadata": {},
   "outputs": [],
   "source": [
    "import pymongo\n",
    "\n",
    "myclient = pymongo.MongoClient(\"mongodb://localhost:27017/\")\n",
    "\n",
    "mydb = myclient[\"Data_Tracker\"]\n",
    "mycol = mydb[\"Product\"]"
   ]
  },
  {
   "cell_type": "code",
   "execution_count": 5,
   "metadata": {},
   "outputs": [
    {
     "name": "stdout",
     "output_type": "stream",
     "text": [
      "{'_id': ObjectId('5e584779271f8e146428db38'), 'Product Type:;Product;Price;Quantity;Sold;Sales': \"Chips;Lay's;R7\"}\n",
      "{'_id': ObjectId('5e584779271f8e146428db39'), 'Product Type:;Product;Price;Quantity;Sold;Sales': 'Chips;Simba;R7'}\n",
      "{'_id': ObjectId('5e584779271f8e146428db3a'), 'Product Type:;Product;Price;Quantity;Sold;Sales': 'Chips;Bubbles;R9'}\n",
      "{'_id': ObjectId('5e584779271f8e146428db3b'), 'Product Type:;Product;Price;Quantity;Sold;Sales': 'Chips;Nik Naks;R1'}\n",
      "{'_id': ObjectId('5e584779271f8e146428db3c'), 'Product Type:;Product;Price;Quantity;Sold;Sales': 'Chips;Bigga Naks;R1'}\n",
      "{'_id': ObjectId('5e584779271f8e146428db3d'), 'Product Type:;Product;Price;Quantity;Sold;Sales': 'Cooldrinks (500ml);Coke;R11'}\n",
      "{'_id': ObjectId('5e584779271f8e146428db3e'), 'Product Type:;Product;Price;Quantity;Sold;Sales': 'Cooldrinks (500ml);Fanta;R11'}\n",
      "{'_id': ObjectId('5e584779271f8e146428db3f'), 'Product Type:;Product;Price;Quantity;Sold;Sales': 'Cooldrinks (500ml);Sprite;R11'}\n",
      "{'_id': ObjectId('5e584779271f8e146428db40'), 'Product Type:;Product;Price;Quantity;Sold;Sales': 'Cooldrinks (500ml);Pepsi;R9'}\n",
      "{'_id': ObjectId('5e584779271f8e146428db41'), 'Product Type:;Product;Price;Quantity;Sold;Sales': 'Cooldrinks (500ml);7Up;R9'}\n",
      "{'_id': ObjectId('5e584779271f8e146428db42'), 'Product Type:;Product;Price;Quantity;Sold;Sales': 'Cooldrinks (500ml);Mountain Dew;R9'}\n",
      "{'_id': ObjectId('5e584779271f8e146428db43'), 'Product Type:;Product;Price;Quantity;Sold;Sales': 'Chocolate(Slabs);Cadbury ;R12'}\n",
      "{'_id': ObjectId('5e584779271f8e146428db44'), 'Product Type:;Product;Price;Quantity;Sold;Sales': 'Chocolate(Slabs);Beacon;R11'}\n",
      "{'_id': ObjectId('5e584779271f8e146428db45'), 'Product Type:;Product;Price;Quantity;Sold;Sales': 'Chocolate(Slabs);Milky Bar;R11'}\n",
      "{'_id': ObjectId('5e584779271f8e146428db46'), 'Product Type:;Product;Price;Quantity;Sold;Sales': 'Chocolate(Slabs);Aero;R15'}\n",
      "{'_id': ObjectId('5e584779271f8e146428db47'), 'Product Type:;Product;Price;Quantity;Sold;Sales': 'Chocolate(Slabs);Bar One;R7'}\n",
      "{'_id': ObjectId('5e584779271f8e146428db48'), 'Product Type:;Product;Price;Quantity;Sold;Sales': 'Chocolate(Slabs);P.S;R8'}\n",
      "{'_id': ObjectId('5e584779271f8e146428db49'), 'Product Type:;Product;Price;Quantity;Sold;Sales': 'Pies;Chicken & Mushroom;R18'}\n",
      "{'_id': ObjectId('5e584779271f8e146428db4a'), 'Product Type:;Product;Price;Quantity;Sold;Sales': 'Pies;Pepper Steak;R18'}\n",
      "{'_id': ObjectId('5e584779271f8e146428db4b'), 'Product Type:;Product;Price;Quantity;Sold;Sales': 'Pies;Burger;R20'}\n",
      "{'_id': ObjectId('5e584779271f8e146428db4c'), 'Product Type:;Product;Price;Quantity;Sold;Sales': 'Pies;Fetta & Spinach;R23'}\n",
      "{'_id': ObjectId('5e584779271f8e146428db4d'), 'Product Type:;Product;Price;Quantity;Sold;Sales': 'Fruits & Vegitables (per kg);Bananas(Prepacks);R10'}\n",
      "{'_id': ObjectId('5e584779271f8e146428db4e'), 'Product Type:;Product;Price;Quantity;Sold;Sales': 'Fruits & Vegitables (per kg);Apples(Prepacks);R15'}\n",
      "{'_id': ObjectId('5e584779271f8e146428db4f'), 'Product Type:;Product;Price;Quantity;Sold;Sales': 'Fruits & Vegitables (per kg);Grapes(Bushels);R17'}\n",
      "{'_id': ObjectId('5e584779271f8e146428db50'), 'Product Type:;Product;Price;Quantity;Sold;Sales': 'Fruits & Vegitables (per kg);Potatoes(Prepacks);R15'}\n",
      "{'_id': ObjectId('5e584779271f8e146428db51'), 'Product Type:;Product;Price;Quantity;Sold;Sales': 'Fruits & Vegitables (per kg);Carrots(Prepacks);R12'}\n",
      "{'_id': ObjectId('5e584779271f8e146428db52'), 'Product Type:;Product;Price;Quantity;Sold;Sales': 'Fruits & Vegitables (per kg);Onions(Prepacks);R14'}\n",
      "{'_id': ObjectId('5e584779271f8e146428db53'), 'Product Type:;Product;Price;Quantity;Sold;Sales': 'Cupcakes;Vanilla;R15'}\n",
      "{'_id': ObjectId('5e584779271f8e146428db54'), 'Product Type:;Product;Price;Quantity;Sold;Sales': 'Cupcakes;Cupaccino;R15'}\n",
      "{'_id': ObjectId('5e584779271f8e146428db55'), 'Product Type:;Product;Price;Quantity;Sold;Sales': 'Cupcakes;Red Velvet;R18'}\n",
      "{'_id': ObjectId('5e584779271f8e146428db56'), 'Product Type:;Product;Price;Quantity;Sold;Sales': 'Cupcakes;Chocolate;R15'}\n",
      "{'_id': ObjectId('5e584779271f8e146428db57'), 'Product Type:;Product;Price;Quantity;Sold;Sales': ';;;;;'}\n",
      "{'_id': ObjectId('5e584779271f8e146428db58'), 'Product Type:;Product;Price;Quantity;Sold;Sales': ';;;;;'}\n",
      "{'_id': ObjectId('5e584779271f8e146428db59'), 'Product Type:;Product;Price;Quantity;Sold;Sales': ''}\n"
     ]
    }
   ],
   "source": [
    "#Step 1\n",
    "for x in mycol.find():\n",
    "  print(x)"
   ]
  },
  {
   "cell_type": "code",
   "execution_count": 6,
   "metadata": {},
   "outputs": [
    {
     "name": "stdout",
     "output_type": "stream",
     "text": [
      "{'_id': ObjectId('5e584779271f8e146428db38'), 'Product Type:;Product;Price;Quantity;Sold;Sales': \"Chips;Lay's;R7\"}\n",
      "{'_id': ObjectId('5e584779271f8e146428db39'), 'Product Type:;Product;Price;Quantity;Sold;Sales': 'Chips;Simba;R7'}\n",
      "{'_id': ObjectId('5e584779271f8e146428db3a'), 'Product Type:;Product;Price;Quantity;Sold;Sales': 'Chips;Bubbles;R9'}\n",
      "{'_id': ObjectId('5e584779271f8e146428db3b'), 'Product Type:;Product;Price;Quantity;Sold;Sales': 'Chips;Nik Naks;R1'}\n",
      "{'_id': ObjectId('5e584779271f8e146428db3c'), 'Product Type:;Product;Price;Quantity;Sold;Sales': 'Chips;Bigga Naks;R1'}\n",
      "{'_id': ObjectId('5e584779271f8e146428db3d'), 'Product Type:;Product;Price;Quantity;Sold;Sales': 'Cooldrinks (500ml);Coke;R11'}\n",
      "{'_id': ObjectId('5e584779271f8e146428db3e'), 'Product Type:;Product;Price;Quantity;Sold;Sales': 'Cooldrinks (500ml);Fanta;R11'}\n",
      "{'_id': ObjectId('5e584779271f8e146428db3f'), 'Product Type:;Product;Price;Quantity;Sold;Sales': 'Cooldrinks (500ml);Sprite;R11'}\n",
      "{'_id': ObjectId('5e584779271f8e146428db40'), 'Product Type:;Product;Price;Quantity;Sold;Sales': 'Cooldrinks (500ml);Pepsi;R9'}\n",
      "{'_id': ObjectId('5e584779271f8e146428db41'), 'Product Type:;Product;Price;Quantity;Sold;Sales': 'Cooldrinks (500ml);7Up;R9'}\n",
      "{'_id': ObjectId('5e584779271f8e146428db42'), 'Product Type:;Product;Price;Quantity;Sold;Sales': 'Cooldrinks (500ml);Mountain Dew;R9'}\n",
      "{'_id': ObjectId('5e584779271f8e146428db43'), 'Product Type:;Product;Price;Quantity;Sold;Sales': 'Chocolate(Slabs);Cadbury ;R12'}\n",
      "{'_id': ObjectId('5e584779271f8e146428db44'), 'Product Type:;Product;Price;Quantity;Sold;Sales': 'Chocolate(Slabs);Beacon;R11'}\n",
      "{'_id': ObjectId('5e584779271f8e146428db45'), 'Product Type:;Product;Price;Quantity;Sold;Sales': 'Chocolate(Slabs);Milky Bar;R11'}\n",
      "{'_id': ObjectId('5e584779271f8e146428db46'), 'Product Type:;Product;Price;Quantity;Sold;Sales': 'Chocolate(Slabs);Aero;R15'}\n",
      "{'_id': ObjectId('5e584779271f8e146428db47'), 'Product Type:;Product;Price;Quantity;Sold;Sales': 'Chocolate(Slabs);Bar One;R7'}\n",
      "{'_id': ObjectId('5e584779271f8e146428db48'), 'Product Type:;Product;Price;Quantity;Sold;Sales': 'Chocolate(Slabs);P.S;R8'}\n",
      "{'_id': ObjectId('5e584779271f8e146428db49'), 'Product Type:;Product;Price;Quantity;Sold;Sales': 'Pies;Chicken & Mushroom;R18'}\n",
      "{'_id': ObjectId('5e584779271f8e146428db4a'), 'Product Type:;Product;Price;Quantity;Sold;Sales': 'Pies;Pepper Steak;R18'}\n",
      "{'_id': ObjectId('5e584779271f8e146428db4b'), 'Product Type:;Product;Price;Quantity;Sold;Sales': 'Pies;Burger;R20'}\n",
      "{'_id': ObjectId('5e584779271f8e146428db4c'), 'Product Type:;Product;Price;Quantity;Sold;Sales': 'Pies;Fetta & Spinach;R23'}\n",
      "{'_id': ObjectId('5e584779271f8e146428db4d'), 'Product Type:;Product;Price;Quantity;Sold;Sales': 'Fruits & Vegitables (per kg);Bananas(Prepacks);R10'}\n",
      "{'_id': ObjectId('5e584779271f8e146428db4e'), 'Product Type:;Product;Price;Quantity;Sold;Sales': 'Fruits & Vegitables (per kg);Apples(Prepacks);R15'}\n",
      "{'_id': ObjectId('5e584779271f8e146428db4f'), 'Product Type:;Product;Price;Quantity;Sold;Sales': 'Fruits & Vegitables (per kg);Grapes(Bushels);R17'}\n",
      "{'_id': ObjectId('5e584779271f8e146428db50'), 'Product Type:;Product;Price;Quantity;Sold;Sales': 'Fruits & Vegitables (per kg);Potatoes(Prepacks);R15'}\n",
      "{'_id': ObjectId('5e584779271f8e146428db51'), 'Product Type:;Product;Price;Quantity;Sold;Sales': 'Fruits & Vegitables (per kg);Carrots(Prepacks);R12'}\n",
      "{'_id': ObjectId('5e584779271f8e146428db52'), 'Product Type:;Product;Price;Quantity;Sold;Sales': 'Fruits & Vegitables (per kg);Onions(Prepacks);R14'}\n",
      "{'_id': ObjectId('5e584779271f8e146428db53'), 'Product Type:;Product;Price;Quantity;Sold;Sales': 'Cupcakes;Vanilla;R15'}\n",
      "{'_id': ObjectId('5e584779271f8e146428db54'), 'Product Type:;Product;Price;Quantity;Sold;Sales': 'Cupcakes;Cupaccino;R15'}\n",
      "{'_id': ObjectId('5e584779271f8e146428db55'), 'Product Type:;Product;Price;Quantity;Sold;Sales': 'Cupcakes;Red Velvet;R18'}\n",
      "{'_id': ObjectId('5e584779271f8e146428db56'), 'Product Type:;Product;Price;Quantity;Sold;Sales': 'Cupcakes;Chocolate;R15'}\n",
      "{'_id': ObjectId('5e584779271f8e146428db57'), 'Product Type:;Product;Price;Quantity;Sold;Sales': ';;;;;'}\n",
      "{'_id': ObjectId('5e584779271f8e146428db58'), 'Product Type:;Product;Price;Quantity;Sold;Sales': ';;;;;'}\n",
      "{'_id': ObjectId('5e584779271f8e146428db59'), 'Product Type:;Product;Price;Quantity;Sold;Sales': ''}\n"
     ]
    }
   ],
   "source": [
    "mydoc = mycol.find().sort(\"Sales\", -1)\n",
    "\n",
    "for x in mydoc:\n",
    "  print(x)"
   ]
  },
  {
   "cell_type": "code",
   "execution_count": null,
   "metadata": {},
   "outputs": [],
   "source": []
  }
 ],
 "metadata": {
  "kernelspec": {
   "display_name": "Python 3",
   "language": "python",
   "name": "python3"
  },
  "language_info": {
   "codemirror_mode": {
    "name": "ipython",
    "version": 3
   },
   "file_extension": ".py",
   "mimetype": "text/x-python",
   "name": "python",
   "nbconvert_exporter": "python",
   "pygments_lexer": "ipython3",
   "version": "3.7.4"
  }
 },
 "nbformat": 4,
 "nbformat_minor": 2
}
