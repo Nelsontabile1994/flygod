{
 "cells": [
  {
   "cell_type": "code",
   "execution_count": 7,
   "metadata": {},
   "outputs": [],
   "source": [
    "#Q1&Q2\n",
    "import pymongo\n",
    "\n",
    "myclient = pymongo.MongoClient(\"mongodb://localhost:27017/\")\n",
    "\n",
    "mydb = myclient[\"Data_Tracker\"]\n",
    "mycol = mydb[\"Question8\"]"
   ]
  },
  {
   "cell_type": "code",
   "execution_count": 5,
   "metadata": {},
   "outputs": [
    {
     "ename": "NameError",
     "evalue": "name 'mycol' is not defined",
     "output_type": "error",
     "traceback": [
      "\u001b[1;31m---------------------------------------------------------------------------\u001b[0m",
      "\u001b[1;31mNameError\u001b[0m                                 Traceback (most recent call last)",
      "\u001b[1;32m<ipython-input-5-c00ede6cedde>\u001b[0m in \u001b[0;36m<module>\u001b[1;34m\u001b[0m\n\u001b[0;32m     36\u001b[0m ]\n\u001b[0;32m     37\u001b[0m \u001b[1;33m\u001b[0m\u001b[0m\n\u001b[1;32m---> 38\u001b[1;33m \u001b[0mx\u001b[0m \u001b[1;33m=\u001b[0m \u001b[0mmycol\u001b[0m\u001b[1;33m.\u001b[0m\u001b[0minsert_many\u001b[0m\u001b[1;33m(\u001b[0m\u001b[0mmylist\u001b[0m\u001b[1;33m)\u001b[0m\u001b[1;33m\u001b[0m\u001b[1;33m\u001b[0m\u001b[0m\n\u001b[0m",
      "\u001b[1;31mNameError\u001b[0m: name 'mycol' is not defined"
     ]
    }
   ],
   "source": [
    "#Q2\n",
    "mylist = [\n",
    "\n",
    "  { \"Product Type\": \"Chips\", \"Product\": \"Bigga Naks\", \"Price\": 1.00, \"Quantity\": 50, \"Sold\": 45, \"Sales\": 45.00},             \n",
    "    { \"Product Type\": \"Chips\", \"Product\": \"Nik Naks\", \"Price\": 1.50, \"Quantity\": 50, \"Sold\": 40, \"Sales\": 60.00},\n",
    "    { \"Product Type\": \"Chips\", \"Product\": \"Bubbles\", \"Price\": 9.00, \"Quantity\": 30, \"Sold\": 12, \"Sales\": 108.00},\n",
    "    { \"Product Type\": \"Chips\", \"Product\": \"Lays\", \"Price\": 7.50, \"Quantity\": 50, \"Sold\": 15, \"Sales\": 112.50},\n",
    "    { \"Product Type\": \"Chips\", \"Product\": \"Simba\", \"Price\": 7.50, \"Quantity\": 50, \"Sold\": 21, \"Sales\": 157.50},\n",
    "{ \"Product Type\": \"Cooldrinks\", \"Product\": \"Coke\", \"Price\": 11.00, \"Quantity\": 60, \"Sold\": 30, \"Sales\": 330.00},\n",
    "    { \"Product Type\": \"Cooldrinks\", \"Product\": \"Pepsi\", \"Price\": 9.00, \"Quantity\": 36, \"Sold\": 30, \"Sales\": 270.00},\n",
    "    { \"Product Type\": \"Cooldrinks\", \"Product\": \"Fanta\", \"Price\": 11.00, \"Quantity\": 60, \"Sold\": 24, \"Sales\": 264.00},\n",
    "    { \"Product Type\": \"Cooldrinks\", \"Product\": \"Sprite\", \"Price\": 11.00, \"Quantity\": 60, \"Sold\": 40, \"Sales\": 440.00},\n",
    "    { \"Product Type\": \"Cooldrinks\", \"Product\": \"Mountain Dew\", \"Price\": 9.00, \"Quantity\": 36, \"Sold\": 19, \"Sales\": 171.00},\n",
    "    { \"Product Type\": \"Cooldrinks\", \"Product\": \"7Up\", \"Price\": 9.00, \"Quantity\": 36, \"Sold\": 25, \"Sales\": 225.00},\n",
    "{ \"Product Type\": \"Chocolates\", \"Product\": \"Cadbury\", \"Price\": 12.00, \"Quantity\": 30, \"Sold\": 15, \"Sales\": 180.00},\n",
    "    { \"Product Type\": \"Chocolates\", \"Product\": \"P.S\", \"Price\": 8.00, \"Quantity\": 20, \"Sold\": 9, \"Sales\": 72.00},\n",
    "    { \"Product Type\": \"Chocolates\", \"Product\": \"Bar One\", \"Price\": 7.00, \"Quantity\": 20, \"Sold\": 15, \"Sales\": 105.00},\n",
    "    { \"Product Type\": \"Chocolates\", \"Product\": \"Aero\", \"Price\": 15.00, \"Quantity\": 30, \"Sold\": 12, \"Sales\": 180.00},\n",
    "    { \"Product Type\": \"Chocolates\", \"Product\": \"Beacon\", \"Price\": 11.00, \"Quantity\": 30, \"Sold\": 17, \"Sales\": 187.00},\n",
    "    { \"Product Type\": \"Chocolates\", \"Product\": \"Milky Bar\", \"Price\": 11.00, \"Quantity\": 30, \"Sold\": 20, \"Sales\": 220.00},\n",
    "{ \"Product Type\": \"Cupcakes\", \"Product\": \"Vanilla\", \"Price\": 15.00, \"Quantity\": 24, \"Sold\": 15, \"Sales\": 225.00},\n",
    "    { \"Product Type\": \"Cupcakes\", \"Product\": \"Red Velvet\", \"Price\": 18.00, \"Quantity\": 24, \"Sold\": 10, \"Sales\": 180.00},\n",
    "    { \"Product Type\": \"Cupcakes\", \"Product\": \"Cuppuccino\", \"Price\": 15.00, \"Quantity\": 24, \"Sold\": 16, \"Sales\": 240.00},\n",
    "    { \"Product Type\": \"Cupcakes\", \"Product\": \"Chocolate\", \"Price\": 15.00, \"Quantity\": 24, \"Sold\": 20, \"Sales\": 300.00},\n",
    "{ \"Product Type\": \"Fruits & Vegitables(Per kg)\", \"Product\": \"Apples(Prepacks)\", \"Price\": 15.00, \"Quantity\": 60, \"Sold\": 44, \"Sales\": 660.00},\n",
    "    { \"Product Type\": \"Fruits & Vegitables(Per kg)\", \"Product\": \"Bananas(Prepacks)\", \"Price\": 10.00, \"Quantity\": 80, \"Sold\": 70, \"Sales\": 700.00},\n",
    "    { \"Product Type\": \"Fruits & Vegitables(Per kg)\", \"Product\": \"Grapes(Bushels)\", \"Price\": 17.00, \"Quantity\": 40, \"Sold\": 18, \"Sales\": 306.00},\n",
    "    { \"Product Type\": \"Fruits & Vegitables(Per kg)\", \"Product\": \"Carrots(Prepacks)\", \"Price\": 12.00, \"Quantity\": 30, \"Sold\": 12, \"Sales\": 144.00},\n",
    "    { \"Product Type\": \"Fruits & Vegitables(Per kg)\", \"Product\": \"Potatoes(Prepacks)\", \"Price\": 15.00, \"Quantity\": 30, \"Sold\": 16, \"Sales\": 240.00},\n",
    "    { \"Product Type\": \"Fruits & Vegitables(Per kg)\", \"Product\": \"Onions(Prepacks)\", \"Price\": 15.00, \"Quantity\": 60, \"Sold\": 44, \"Sales\": 280.00},\n",
    "{ \"Product Type\": \"Pies\", \"Product\": \"Chicken & Mushroom\", \"Price\": 18.00, \"Quantity\": 20, \"Sold\": 15, \"Sales\": 270.00},\n",
    "    { \"Product Type\": \"Pies\", \"Product\": \"Fetta & Spinach\", \"Price\": 23.00, \"Quantity\": 25, \"Sold\": 20, \"Sales\": 460.00},\n",
    "    { \"Product Type\": \"Pies\", \"Product\": \"Pepper Steak\", \"Price\": 18.00, \"Quantity\": 20, \"Sold\": 10, \"Sales\": 180.00},\n",
    "    { \"Product Type\": \"Pies\", \"Product\": \"Burger\", \"Price\": 20.00, \"Quantity\": 20, \"Sold\": 14, \"Sales\": 280.00},\n",
    "\n",
    "]\n",
    "\n",
    "x = mycol.insert_many(mylist)\n"
   ]
  },
  {
   "cell_type": "code",
   "execution_count": 6,
   "metadata": {},
   "outputs": [
    {
     "name": "stdout",
     "output_type": "stream",
     "text": [
      "{'_id': ObjectId('5e58d231f0570f41208bfc2f'), 'Product Type': 'Fruits & Vegitables(Per kg)', 'Product': 'Bananas(Prepacks)', 'Price': 10.0, 'Quantity': 80, 'Sold': 70, 'Sales': 700.0}\n",
      "{'_id': ObjectId('5e58d231f0570f41208bfc2e'), 'Product Type': 'Fruits & Vegitables(Per kg)', 'Product': 'Apples(Prepacks)', 'Price': 15.0, 'Quantity': 60, 'Sold': 44, 'Sales': 660.0}\n",
      "{'_id': ObjectId('5e58d231f0570f41208bfc35'), 'Product Type': 'Pies', 'Product': 'Fetta & Spinach', 'Price': 23.0, 'Quantity': 25, 'Sold': 20, 'Sales': 460.0}\n",
      "{'_id': ObjectId('5e58d231f0570f41208bfc21'), 'Product Type': 'Cooldrinks', 'Product': 'Sprite', 'Price': 11.0, 'Quantity': 60, 'Sold': 40, 'Sales': 440.0}\n",
      "{'_id': ObjectId('5e58d231f0570f41208bfc1e'), 'Product Type': 'Cooldrinks', 'Product': 'Coke', 'Price': 11.0, 'Quantity': 60, 'Sold': 30, 'Sales': 330.0}\n",
      "{'_id': ObjectId('5e58d231f0570f41208bfc30'), 'Product Type': 'Fruits & Vegitables(Per kg)', 'Product': 'Grapes(Bushels)', 'Price': 17.0, 'Quantity': 40, 'Sold': 18, 'Sales': 306.0}\n",
      "{'_id': ObjectId('5e58d231f0570f41208bfc2d'), 'Product Type': 'Cupcakes', 'Product': 'Chocolate', 'Price': 15.0, 'Quantity': 24, 'Sold': 20, 'Sales': 300.0}\n",
      "{'_id': ObjectId('5e58d231f0570f41208bfc33'), 'Product Type': 'Fruits & Vegitables(Per kg)', 'Product': 'Onions(Prepacks)', 'Price': 15.0, 'Quantity': 60, 'Sold': 44, 'Sales': 280.0}\n",
      "{'_id': ObjectId('5e58d231f0570f41208bfc37'), 'Product Type': 'Pies', 'Product': 'Burger', 'Price': 20.0, 'Quantity': 20, 'Sold': 14, 'Sales': 280.0}\n",
      "{'_id': ObjectId('5e58d231f0570f41208bfc1f'), 'Product Type': 'Cooldrinks', 'Product': 'Pepsi', 'Price': 9.0, 'Quantity': 36, 'Sold': 30, 'Sales': 270.0}\n",
      "{'_id': ObjectId('5e58d231f0570f41208bfc34'), 'Product Type': 'Pies', 'Product': 'Chicken & Mushroom', 'Price': 18.0, 'Quantity': 20, 'Sold': 15, 'Sales': 270.0}\n",
      "{'_id': ObjectId('5e58d231f0570f41208bfc20'), 'Product Type': 'Cooldrinks', 'Product': 'Fanta', 'Price': 11.0, 'Quantity': 60, 'Sold': 24, 'Sales': 264.0}\n",
      "{'_id': ObjectId('5e58d231f0570f41208bfc2c'), 'Product Type': 'Cupcakes', 'Product': 'Cuppuccino', 'Price': 15.0, 'Quantity': 24, 'Sold': 16, 'Sales': 240.0}\n",
      "{'_id': ObjectId('5e58d231f0570f41208bfc32'), 'Product Type': 'Fruits & Vegitables(Per kg)', 'Product': 'Potatoes(Prepacks)', 'Price': 15.0, 'Quantity': 30, 'Sold': 16, 'Sales': 240.0}\n",
      "{'_id': ObjectId('5e58d231f0570f41208bfc23'), 'Product Type': 'Cooldrinks', 'Product': '7Up', 'Price': 9.0, 'Quantity': 36, 'Sold': 25, 'Sales': 225.0}\n",
      "{'_id': ObjectId('5e58d231f0570f41208bfc2a'), 'Product Type': 'Cupcakes', 'Product': 'Vanilla', 'Price': 15.0, 'Quantity': 24, 'Sold': 15, 'Sales': 225.0}\n",
      "{'_id': ObjectId('5e58d231f0570f41208bfc29'), 'Product Type': 'Chocolates', 'Product': 'Milky Bar', 'Price': 11.0, 'Quantity': 30, 'Sold': 20, 'Sales': 220.0}\n",
      "{'_id': ObjectId('5e58d231f0570f41208bfc28'), 'Product Type': 'Chocolates', 'Product': 'Beacon', 'Price': 11.0, 'Quantity': 30, 'Sold': 17, 'Sales': 187.0}\n",
      "{'_id': ObjectId('5e58d231f0570f41208bfc24'), 'Product Type': 'Chocolates', 'Product': 'Cadbury', 'Price': 12.0, 'Quantity': 30, 'Sold': 15, 'Sales': 180.0}\n",
      "{'_id': ObjectId('5e58d231f0570f41208bfc27'), 'Product Type': 'Chocolates', 'Product': 'Aero', 'Price': 15.0, 'Quantity': 30, 'Sold': 12, 'Sales': 180.0}\n",
      "{'_id': ObjectId('5e58d231f0570f41208bfc2b'), 'Product Type': 'Cupcakes', 'Product': 'Red Velvet', 'Price': 18.0, 'Quantity': 24, 'Sold': 10, 'Sales': 180.0}\n",
      "{'_id': ObjectId('5e58d231f0570f41208bfc36'), 'Product Type': 'Pies', 'Product': 'Pepper Steak', 'Price': 18.0, 'Quantity': 20, 'Sold': 10, 'Sales': 180.0}\n",
      "{'_id': ObjectId('5e58d231f0570f41208bfc22'), 'Product Type': 'Cooldrinks', 'Product': 'Mountain Dew', 'Price': 9.0, 'Quantity': 36, 'Sold': 19, 'Sales': 171.0}\n",
      "{'_id': ObjectId('5e58d231f0570f41208bfc1d'), 'Product Type': 'Chips', 'Product': 'Simba', 'Price': 7.5, 'Quantity': 50, 'Sold': 21, 'Sales': 157.5}\n",
      "{'_id': ObjectId('5e58d231f0570f41208bfc31'), 'Product Type': 'Fruits & Vegitables(Per kg)', 'Product': 'Carrots(Prepacks)', 'Price': 12.0, 'Quantity': 30, 'Sold': 12, 'Sales': 144.0}\n",
      "{'_id': ObjectId('5e58d231f0570f41208bfc1c'), 'Product Type': 'Chips', 'Product': 'Lays', 'Price': 7.5, 'Quantity': 50, 'Sold': 15, 'Sales': 112.5}\n",
      "{'_id': ObjectId('5e58d231f0570f41208bfc1b'), 'Product Type': 'Chips', 'Product': 'Bubbles', 'Price': 9.0, 'Quantity': 30, 'Sold': 12, 'Sales': 108.0}\n",
      "{'_id': ObjectId('5e58d231f0570f41208bfc26'), 'Product Type': 'Chocolates', 'Product': 'Bar One', 'Price': 7.0, 'Quantity': 20, 'Sold': 15, 'Sales': 105.0}\n",
      "{'_id': ObjectId('5e58d231f0570f41208bfc25'), 'Product Type': 'Chocolates', 'Product': 'P.S', 'Price': 8.0, 'Quantity': 20, 'Sold': 9, 'Sales': 72.0}\n",
      "{'_id': ObjectId('5e58d231f0570f41208bfc1a'), 'Product Type': 'Chips', 'Product': 'Nik Naks', 'Price': 1.5, 'Quantity': 50, 'Sold': 40, 'Sales': 60.0}\n",
      "{'_id': ObjectId('5e58d231f0570f41208bfc19'), 'Product Type': 'Chips', 'Product': 'Bigga Naks', 'Price': 1.0, 'Quantity': 50, 'Sold': 45, 'Sales': 45.0}\n"
     ]
    }
   ],
   "source": [
    "#From Highest to Lowest according to sales (Q5)\n",
    "\n",
    "mydoc = mycol.find().sort(\"Sales\", -1)\n",
    "\n",
    "for x in mydoc:\n",
    "    print(x)"
   ]
  },
  {
   "cell_type": "code",
   "execution_count": 57,
   "metadata": {},
   "outputs": [],
   "source": [
    "#Top3 Q3\n",
    "mylist = [{'Product Type': 'Fruits & Vegitables(Per kg)', 'Product': 'Bananas(Prepacks)', 'Price': 10.0, 'Quantity': 80, 'Sold': 70, 'Sales': 700.0},\n",
    "{'Product Type': 'Fruits & Vegitables(Per kg)', 'Product': 'Apples(Prepacks)', 'Price': 15.0, 'Quantity': 60, 'Sold': 44, 'Sales': 660.0},\n",
    "{'Product Type': 'Pies', 'Product': 'Fetta & Spinach', 'Price': 23.0, 'Quantity': 25, 'Sold': 20, 'Sales': 460.0},\n",
    "    \n",
    "]\n",
    "\n",
    "x = mycol.insert_many(mylist)"
   ]
  },
  {
   "cell_type": "code",
   "execution_count": 60,
   "metadata": {},
   "outputs": [],
   "source": [
    "#Add to top3: Q4\n",
    "mylist = [{'Product Type': 'Fruits & Vegitables(Per kg)', 'Product': 'Mangoes(Prepacks)', 'Price': 20.00, 'Quantity': 20, 'Sold': 6, 'Sales': 120.0},\n",
    "{'Product Type': 'Fruits & Vegitables(Per kg)', 'Product': 'Pears(Prepacks)', 'Price': 17.00, 'Quantity': 40, 'Sold': 15, 'Sales': 255.0},\n",
    "{'Product Type': 'Pies', 'Product': 'Apple', 'Price': 25.00, 'Quantity': 25, 'Sold': 20, 'Sales': 500.00},\n",
    "{'Product Type': 'Pies', 'Product': 'Blueberry', 'Price': 25.00, 'Quantity': 25, 'Sold': 10, 'Sales': 250.00},\n",
    "    \n",
    "]\n",
    "\n",
    "x = mycol.insert_many(mylist)"
   ]
  },
  {
   "cell_type": "code",
   "execution_count": 3,
   "metadata": {},
   "outputs": [
    {
     "ename": "NameError",
     "evalue": "name 'mycol' is not defined",
     "output_type": "error",
     "traceback": [
      "\u001b[1;31m---------------------------------------------------------------------------\u001b[0m",
      "\u001b[1;31mNameError\u001b[0m                                 Traceback (most recent call last)",
      "\u001b[1;32m<ipython-input-3-9c19f82aba36>\u001b[0m in \u001b[0;36m<module>\u001b[1;34m\u001b[0m\n\u001b[0;32m      2\u001b[0m \u001b[0mmyquery\u001b[0m \u001b[1;33m=\u001b[0m \u001b[1;33m{\u001b[0m \u001b[1;34m\"Product Type\"\u001b[0m\u001b[1;33m:\u001b[0m \u001b[1;33m{\u001b[0m\u001b[1;34m\"$regex\"\u001b[0m\u001b[1;33m:\u001b[0m \u001b[1;34m\"F\"\u001b[0m\u001b[1;33m}\u001b[0m \u001b[1;33m}\u001b[0m\u001b[1;33m\u001b[0m\u001b[1;33m\u001b[0m\u001b[0m\n\u001b[0;32m      3\u001b[0m \u001b[1;33m\u001b[0m\u001b[0m\n\u001b[1;32m----> 4\u001b[1;33m \u001b[0mx\u001b[0m \u001b[1;33m=\u001b[0m \u001b[0mmycol\u001b[0m\u001b[1;33m.\u001b[0m\u001b[0mdelete_many\u001b[0m\u001b[1;33m(\u001b[0m\u001b[0mmyquery\u001b[0m\u001b[1;33m)\u001b[0m\u001b[1;33m\u001b[0m\u001b[1;33m\u001b[0m\u001b[0m\n\u001b[0m\u001b[0;32m      5\u001b[0m \u001b[1;33m\u001b[0m\u001b[0m\n\u001b[0;32m      6\u001b[0m \u001b[0mprint\u001b[0m\u001b[1;33m(\u001b[0m\u001b[0mx\u001b[0m\u001b[1;33m.\u001b[0m\u001b[0mdeleted_count\u001b[0m\u001b[1;33m,\u001b[0m \u001b[1;34m\" documents deleted.\"\u001b[0m\u001b[1;33m)\u001b[0m\u001b[1;33m\u001b[0m\u001b[1;33m\u001b[0m\u001b[0m\n",
      "\u001b[1;31mNameError\u001b[0m: name 'mycol' is not defined"
     ]
    }
   ],
   "source": [
    "#Delete from top 3: Q6\n",
    "myquery = { \"Product Type\": {\"$regex\": \"F\"} }\n",
    "\n",
    "x = mycol.delete_many(myquery)\n",
    "\n",
    "print(x.deleted_count, \" documents deleted.\")"
   ]
  },
  {
   "cell_type": "code",
   "execution_count": 61,
   "metadata": {},
   "outputs": [
    {
     "name": "stdout",
     "output_type": "stream",
     "text": [
      "1 documents updated.\n"
     ]
    }
   ],
   "source": [
    "#Update Data: Q7\n",
    "\n",
    "myquery = { \"Product\": { \"$regex\": \"^Blueberry\" } }\n",
    "newvalues = { \"$set\": { \"Product\": \"Tikka Chicken\" } }\n",
    "\n",
    "x = mycol.update_many(myquery, newvalues)\n",
    "\n",
    "print(x.modified_count, \"documents updated.\")"
   ]
  },
  {
   "cell_type": "code",
   "execution_count": 4,
   "metadata": {},
   "outputs": [
    {
     "ename": "NameError",
     "evalue": "name 'mycol' is not defined",
     "output_type": "error",
     "traceback": [
      "\u001b[1;31m---------------------------------------------------------------------------\u001b[0m",
      "\u001b[1;31mNameError\u001b[0m                                 Traceback (most recent call last)",
      "\u001b[1;32m<ipython-input-4-2479d4fc1dd9>\u001b[0m in \u001b[0;36m<module>\u001b[1;34m\u001b[0m\n\u001b[0;32m      1\u001b[0m \u001b[1;31m#5 Least Selling Products (Q8)\u001b[0m\u001b[1;33m\u001b[0m\u001b[1;33m\u001b[0m\u001b[1;33m\u001b[0m\u001b[0m\n\u001b[0;32m      2\u001b[0m \u001b[1;33m\u001b[0m\u001b[0m\n\u001b[1;32m----> 3\u001b[1;33m \u001b[0mmyresult\u001b[0m \u001b[1;33m=\u001b[0m \u001b[0mmycol\u001b[0m\u001b[1;33m.\u001b[0m\u001b[0mfind\u001b[0m\u001b[1;33m(\u001b[0m\u001b[1;33m)\u001b[0m\u001b[1;33m.\u001b[0m\u001b[0mlimit\u001b[0m\u001b[1;33m(\u001b[0m\u001b[1;33m-\u001b[0m\u001b[1;36m5\u001b[0m\u001b[1;33m)\u001b[0m\u001b[1;33m\u001b[0m\u001b[1;33m\u001b[0m\u001b[0m\n\u001b[0m\u001b[0;32m      4\u001b[0m \u001b[1;33m\u001b[0m\u001b[0m\n\u001b[0;32m      5\u001b[0m \u001b[1;31m#print the result:\u001b[0m\u001b[1;33m\u001b[0m\u001b[1;33m\u001b[0m\u001b[1;33m\u001b[0m\u001b[0m\n",
      "\u001b[1;31mNameError\u001b[0m: name 'mycol' is not defined"
     ]
    }
   ],
   "source": [
    "#5 Least Selling Products (Q8)\n",
    "import pymongo\n",
    "\n",
    "myclient = pymongo.MongoClient(\"mongodb://localhost:27017/\")\n",
    "\n",
    "mydb = myclient[\"Data_Tracker\"]\n",
    "mycol = mydb[\"Question8\"]\n",
    "myresult = mycol.find().limit(-5)\n",
    "\n",
    "#print the result:\n",
    "for x in myresult:\n",
    "  print(x)\n"
   ]
  },
  {
   "cell_type": "code",
   "execution_count": null,
   "metadata": {},
   "outputs": [],
   "source": []
  }
 ],
 "metadata": {
  "kernelspec": {
   "display_name": "Python 3",
   "language": "python",
   "name": "python3"
  },
  "language_info": {
   "codemirror_mode": {
    "name": "ipython",
    "version": 3
   },
   "file_extension": ".py",
   "mimetype": "text/x-python",
   "name": "python",
   "nbconvert_exporter": "python",
   "pygments_lexer": "ipython3",
   "version": "3.7.4"
  }
 },
 "nbformat": 4,
 "nbformat_minor": 2
}
